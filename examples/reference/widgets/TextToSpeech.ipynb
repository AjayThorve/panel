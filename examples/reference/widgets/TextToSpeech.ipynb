{
 "cells": [
  {
   "cell_type": "code",
   "execution_count": null,
   "metadata": {},
   "outputs": [],
   "source": [
    "import panel as pn\n",
    "import param\n",
    "\n",
    "pn.extension()"
   ]
  },
  {
   "cell_type": "markdown",
   "metadata": {},
   "source": [
    "## Panel TextToSpeech Widget\n",
    "\n",
    "The `TextToSpeech` Widget provides brings *text to speech* to Panel. \n",
    "\n",
    "The `TextToSpeech` widget can `speak` strings or `Utterance` objects. An *utterance* is the smallest unit of speech in spoken language analysis.\n",
    "\n",
    "The `Utterance` provides fine grained control over the `voice`, `volume`, `pitch` and `rate`.\n",
    "\n",
    "### `TextToSpeech`\n",
    "\n",
    "Wraps the [HTML5 SpeechSynthesis API](https://developer.mozilla.org/en-US/docs/Web/API/SpeechSynthesis).\n",
    "\n",
    "#### Actions\n",
    "\n",
    "* **``speak``** (utterance: str|Utterance): Speaks the utterance. Returns an `Utterance` instance. If provided with a previously spoken Utterance, the Utterance returnd is a new, cloned instance.\n",
    "\n",
    "* **``cancel``** (): Removes all Utterances from the Utterance queue.\n",
    "* **``pause``** (): Puts the SpeechSynthesis object into a paused state.\n",
    "* **``resume``** (): Puts the SpeechSynthesis object into a non-paused state: resumes it if it was already paused.\n",
    "\n",
    "#### Readonly Parameters:\n",
    "\n",
    "* **``voices``** (List[Voice]): Returns a list of Voice objects representing all the available voices in the current device.\n",
    "\n",
    "The `voices` is being populated by your browser and are not available before 1) The `TextToSpeech` instance is included in your app 2) the app has loaded and 3) the browser has loaded its list of `voices`. The available voices depend on your OS and browser.\n",
    "\n",
    "* **``paused``** (boolean): Returns true if the TextToSpeech object is in a paused state.\n",
    "* **``pending``** (boolean): Returns true if the utterance queue contains as-yet-unspoken\n",
    "        utterances.\n",
    "* **``speaking``** (boolean): returns true if an utterance is currently in the process of being\n",
    "        spoken — even if TextToSpeech is in a paused state.\n",
    "        \n",
    "The `paused`, `pending` and `speaking` parameters are being updated by your browser every 1 sec only. So they arrive with a small time lag.\n",
    "\n",
    "### `Utterance`\n",
    "\n",
    "Wraps the [HTML5 SpeechSynthesisUtterance API](https://developer.mozilla.org/en-US/docs/Web/API/SpeechSynthesisUtterance).\n",
    "\n",
    "An *utterance* is the smallest unit of speech in spoken language analysis.\n",
    "\n",
    "#### Parameters:\n",
    "\n",
    "* **``text``** (str): The text that will be synthesised when the utterance is spoken. The text may be provided as plain text, or a well-formed SSML document\n",
    "* **``lang``** (str): The language of the utterance.\n",
    "* **``voice``** (SpeechSynthesisVoice): The voice that will be used to speak the utterance.\n",
    "* **``pitch``** (float): The pitch at which the utterance will be spoken at. A number between 0 and 2. Default is 1\n",
    "* **``rate``** (float): The speed at which the utterance will be spoken at. A number between 0.1 and 10. Default is 1\n",
    "* **``volume``** (float): The volume that the utterance will be spoken at. A number between 0 and 1. Default is 1\n",
    "\n",
    "You can provide the list of available voices either on construction via the `voices` argument or later via the `set_voices` method. You can get the list of voices from the `SpeechSynthesis.voices` parameter.\n",
    "\n",
    "If no list of voices are provided a default voice will be used by the browser.\n",
    "\n",
    "### `Voice`\n",
    "\n",
    "Wraps the [HTML5 SpeecSynthesisVoice API](https://developer.mozilla.org/en-US/docs/Web/API/SpeechSynthesisVoice)\n",
    "\n",
    "* **``default``** (bool): A Boolean indicating whether the voice is the default voice for the current app language (True), or not (False.)\n",
    "* **``local_service``** (bool): A Boolean indicating whether the voice is supplied by a local speech synthesizer service (True), or a remote speech synthesizer service (False.)\n",
    "* **``lang``** (str): The language of the utterance.\n",
    "* **``name``** (str): Returns a human-readable name that represents the voice.\n",
    "* **``voice_uri``** (str): Returns the type of URI and location of the speech synthesis service for this voice."
   ]
  },
  {
   "cell_type": "code",
   "execution_count": null,
   "metadata": {},
   "outputs": [],
   "source": [
    "from panel.widgets import TextToSpeech, Utterance"
   ]
  },
  {
   "cell_type": "markdown",
   "metadata": {},
   "source": [
    "## Basic Example"
   ]
  },
  {
   "cell_type": "markdown",
   "metadata": {},
   "source": [
    "Instantiate and display the speaker"
   ]
  },
  {
   "cell_type": "code",
   "execution_count": null,
   "metadata": {},
   "outputs": [],
   "source": [
    "basic_speaker = TextToSpeech(name=\"Speech Synthesis\")\n",
    "basic_speaker"
   ]
  },
  {
   "cell_type": "markdown",
   "metadata": {},
   "source": [
    "Say something!"
   ]
  },
  {
   "cell_type": "code",
   "execution_count": null,
   "metadata": {},
   "outputs": [],
   "source": [
    "basic_speaker.speak(\"Hello Panel World\")"
   ]
  },
  {
   "cell_type": "code",
   "execution_count": null,
   "metadata": {},
   "outputs": [],
   "source": [
    "basic_utterance = Utterance(text='Hello Panel World', volume=0.7, pitch=1.7, rate=2, voices=basic_speaker.voices)\n",
    "basic_speaker.speak(basic_utterance)"
   ]
  },
  {
   "cell_type": "markdown",
   "metadata": {},
   "source": [
    "## Advanced Example"
   ]
  },
  {
   "cell_type": "code",
   "execution_count": null,
   "metadata": {},
   "outputs": [],
   "source": [
    "TEXT = \"\"\"By Aesop\n",
    "\n",
    "There was a time, so the story goes, when all the animals lived together in harmony. The lion didn’t chase the oxen, the wolf didn’t hunt the sheep, and owls didn’t swoop on the mice in the field.\n",
    "\n",
    "Once a year they would get together and choose a king, who would then reign over the animal kingdom for the next twelve months. Those animals who thought they would like a turn at being king would put themselves forward and would make speeches and give demonstrations of their prowess or their wisdom. Then all the animals gathered together would vote, and the animal with the most votes was crowned king. That’s probably where us humans got the idea of elections!\n",
    "\n",
    "Now, monkey knew very well that he was neither very strong nor very wise, and he was not exactly a great orator, but, boy, could he dance! So he did what he does best, and he danced acrobatically and energetically, performing enormous leaps, back somersaults and cartwheels that truly dazzled his audience. Compared to monkey, the elephant was grave and cumbersome, the lion was powerful and authoritarian, and the snake was sly and sinister.\n",
    "\n",
    "Nobody who was there remembers exactly how it happened, but somehow monkey scraped through with a clear majority of all the votes cast, and he was announced the king of the animal kingdom for the coming year. Most of the animals seemed quite content with this outcome, because they knew that monkey would not take his duties too seriously and make all kinds of onerous demands on them, or demand too much of a formal show of obedience. But there were some who thought that the election of monkey diminished the stature of the kingship, and one of these was fox; in fact fox was pretty disgusted, and he didn’t mind who knew it. So he set about concocting a scheme to make monkey look stupid.\n",
    "\n",
    "He gathered together some fine fresh fruit from the forest, mangos, figs and dates, and laid them out on a trap he’d found. He waited for the monkey to pass by, and called out to him: “Sire, look at these delicious dainty morsels I discovered here by the wayside. I was tempted to gorge myself on them, but then I remembered fruits are your favourite repast, and I thought I should keep them for you, our beloved king!”\n",
    "\n",
    "Monkey could not resist either the flattery or the fruit, and just managed to compose himself long enough to whisper a hurried “Why, thank you, Mr Fox” and made a beeline for the fruit. “Swish” and “Clunk” went the trap, and “AAAYYY AAAYYY” went our unfortunate monkey king, the trap firmly clasped around his paw.\n",
    "\n",
    "Monkey bitterly reproached fox for leading him into such a dangerous situation, but fox just laughed and laughed. “You call yourself king of all the animals,” he cried, “and you allow yourself to be taken in just like that!”\n",
    "\n",
    "Aesop\n",
    "\"\"\""
   ]
  },
  {
   "cell_type": "markdown",
   "metadata": {},
   "source": [
    "Define the `text_to_speech` widget and the `utterance`. \n",
    "\n",
    "Populate the `utterance` with the list of `voices` provided by the `text_to_speech` widget."
   ]
  },
  {
   "cell_type": "code",
   "execution_count": null,
   "metadata": {},
   "outputs": [],
   "source": [
    "text_to_speech = TextToSpeech(name=\"Text to Speech Widget\")\n",
    "utterance = Utterance(text=TEXT, name=\"Utterance\")\n",
    "\n",
    "# We set the voices once when they are ready\n",
    "@param.depends(text_to_speech.param.voices, watch=True)\n",
    "def update_voices(voices):\n",
    "    utterance.set_voices(voices)"
   ]
  },
  {
   "cell_type": "markdown",
   "metadata": {},
   "source": [
    "Add a `speaker_button`"
   ]
  },
  {
   "cell_type": "code",
   "execution_count": null,
   "metadata": {},
   "outputs": [],
   "source": [
    "speak_button = pn.widgets.Button(name=\"Speak\", button_type=\"success\", sizing_mode=\"stretch_width\", margin=0)\n",
    "def click_handler(*_):\n",
    "    text_to_speech.speak(utterance)\n",
    "speak_button.on_click(click_handler)"
   ]
  },
  {
   "cell_type": "markdown",
   "metadata": {},
   "source": [
    "Layout the app"
   ]
  },
  {
   "cell_type": "code",
   "execution_count": null,
   "metadata": {},
   "outputs": [],
   "source": [
    "utterance_settings = pn.Param(\n",
    "    utterance,\n",
    "    widgets={\"text\": {\"widget_type\": pn.widgets.TextAreaInput, \"height\": 300}},\n",
    "    expand_button=False,\n",
    ")\n",
    "text_to_speech_settings = pn.Param(\n",
    "    text_to_speech,\n",
    "    parameters=[\n",
    "        \"paused\",\n",
    "        \"speaking\",\n",
    "        \"pending\",\n",
    "        \"pause\",\n",
    "        \"resume\",\n",
    "        \"cancel\",\n",
    "    ],\n",
    "    widgets={\n",
    "        \"cancel\": {\"button_type\": \"default\"}\n",
    "    }\n",
    ")\n",
    "app = pn.Column(\n",
    "    pn.pane.Markdown(\"# Panel - Text to Speech App\", sizing_mode=\"stretch_width\", margin=(0,0,25,0)),\n",
    "    speak_button,\n",
    "    text_to_speech,\n",
    "    pn.Row(utterance_settings, text_to_speech_settings),\n",
    "    width=620, sizing_mode=\"fixed\"\n",
    ")\n",
    "app"
   ]
  },
  {
   "cell_type": "markdown",
   "metadata": {},
   "source": [
    "Try changing the `text`, `lang`, `voice` etc."
   ]
  }
 ],
 "metadata": {
  "kernelspec": {
   "display_name": "Python 3",
   "language": "python",
   "name": "python3"
  },
  "language_info": {
   "codemirror_mode": {
    "name": "ipython",
    "version": 3
   },
   "file_extension": ".py",
   "mimetype": "text/x-python",
   "name": "python",
   "nbconvert_exporter": "python",
   "pygments_lexer": "ipython3",
   "version": "3.7.8"
  }
 },
 "nbformat": 4,
 "nbformat_minor": 4
}
