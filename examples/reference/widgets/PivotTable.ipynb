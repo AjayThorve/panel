{
 "cells": [
  {
   "cell_type": "markdown",
   "metadata": {},
   "source": [
    "# PivotTable - Reference Guide\n",
    "\n",
    "[PivotTable.js](https://pivottable.js.org/examples/) is provides an awesome interactive pivot tables and charts.\n",
    "\n",
    "<img src=\"https://raw.githubusercontent.com/MarcSkovMadsen/awesome-panel-extensions/master/assets/videos/pivottable-official.gif\" style=\"max-height:400px\">\n",
    "\n",
    "The `PivotTable` widget enables the use of `pivottable.js` in Panel apps.\n",
    "\n",
    "#### Parameters:\n",
    "\n",
    "* **``value``** (DataFrame): The data loaded to the viewer.\n",
    "\n",
    "The `PivotTable` has the same layout and styling parameters as most other widgets. For example `width` and `sizing_mode`.\n",
    "\n",
    "___\n",
    "\n",
    "Let's start by importing the **dependencies**"
   ]
  },
  {
   "cell_type": "code",
   "execution_count": null,
   "metadata": {},
   "outputs": [],
   "source": [
    "import panel as pn\n",
    "from panel.widgets.pivot_table import PivotTable # Please note you need to import extensions before you run pn.extension(\"perspective\")\n",
    "\n",
    "pn.extension(\"pivottable\")"
   ]
  },
  {
   "cell_type": "code",
   "execution_count": null,
   "metadata": {},
   "outputs": [],
   "source": [
    "import param\n",
    "import pandas as pd\n",
    "import panel as pn\n",
    "import time"
   ]
  },
  {
   "cell_type": "markdown",
   "metadata": {},
   "source": [
    "Let's load **S&P500 financials data**"
   ]
  },
  {
   "cell_type": "code",
   "execution_count": null,
   "metadata": {},
   "outputs": [],
   "source": [
    "# Source: https://datahub.io/core/s-and-p-500-companies-financials\n",
    "data = \"https://raw.githubusercontent.com/MarcSkovMadsen/awesome-panel/master/application/pages/awesome_panel_express_tests/PerspectiveViewerData.csv\"\n",
    "dataframe = pd.read_csv(data)\n",
    "columns = [\n",
    "    \"Name\",\n",
    "    \"Symbol\",\n",
    "    \"Sector\",\n",
    "    \"Price\",\n",
    "    \"52 Week Low\",\n",
    "    \"52 Week High\",\n",
    "    \"Price/Earnings\",\n",
    "    \"Price/Sales\",\n",
    "    \"Price/Book\",\n",
    "    \"Dividend Yield\",\n",
    "    \"Earnings/Share\",\n",
    "    \"Market Cap\",\n",
    "    \"EBITDA\",\n",
    "    \"SEC Filings\",\n",
    "]\n",
    "dataframe=dataframe[columns]\n",
    "dataframe.head(2)"
   ]
  },
  {
   "cell_type": "markdown",
   "metadata": {},
   "source": [
    "Lets create an app bar"
   ]
  },
  {
   "cell_type": "code",
   "execution_count": null,
   "metadata": {},
   "outputs": [],
   "source": [
    "DARK_BACKGROUND = \"rgb(42, 44, 47)\" # pylint: disable=invalid-name\n",
    "top_app_bar = pn.Row(\n",
    "    pn.layout.Spacer(width=10),\n",
    "    pn.pane.HTML(\"<h1 style='color:white'>&nbsp;PivotTable.js</h1>\", align=\"center\"),\n",
    "    pn.layout.HSpacer(),\n",
    "    pn.pane.PNG(\"https://panel.holoviz.org/_static/logo_horizontal.png\", height=50, align=\"center\"),\n",
    "    pn.layout.Spacer(width=25),\n",
    "    background=DARK_BACKGROUND,\n",
    ")\n",
    "top_app_bar"
   ]
  },
  {
   "cell_type": "markdown",
   "metadata": {},
   "source": [
    "Let use the `PivotTable`"
   ]
  },
  {
   "cell_type": "code",
   "execution_count": null,
   "metadata": {
    "scrolled": false
   },
   "outputs": [],
   "source": [
    "pivot_table = PivotTable(\n",
    "    height=500,\n",
    "    value=dataframe.copy(deep=True),\n",
    "    sizing_mode=\"stretch_width\",\n",
    ")\n",
    "app = pn.Column(\n",
    "    top_app_bar,\n",
    "    pn.Row(\n",
    "        pivot_table,\n",
    "        sizing_mode=\"stretch_width\",\n",
    "    ),\n",
    "    height=800,\n",
    "    sizing_mode=\"stretch_width\",\n",
    ")\n",
    "app"
   ]
  },
  {
   "cell_type": "markdown",
   "metadata": {},
   "source": [
    "## Note\n",
    "\n",
    "- The current implementation of PivotTable is very basic. If you need more advanced functionality feel free to open a feature request on [Github](https://github.com/holoviz/panel)."
   ]
  },
  {
   "cell_type": "markdown",
   "metadata": {},
   "source": [
    "## Resources\n",
    "\n",
    "- [Pivottable.js](https://pivottable.js.org)"
   ]
  }
 ],
 "metadata": {
  "kernelspec": {
   "display_name": "Python 3",
   "language": "python",
   "name": "python3"
  },
  "language_info": {
   "codemirror_mode": {
    "name": "ipython",
    "version": 3
   },
   "file_extension": ".py",
   "mimetype": "text/x-python",
   "name": "python",
   "nbconvert_exporter": "python",
   "pygments_lexer": "ipython3",
   "version": "3.7.8"
  }
 },
 "nbformat": 4,
 "nbformat_minor": 4
}
