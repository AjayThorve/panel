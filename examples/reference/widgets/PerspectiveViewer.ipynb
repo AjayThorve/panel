{
 "cells": [
  {
   "cell_type": "code",
   "execution_count": null,
   "metadata": {},
   "outputs": [],
   "source": [
    "import panel as pn\n",
    "from panel.widgets import PerspectiveViewer # Please note you need to import extensions before you run pn.extension(\"perspective\")\n",
    "\n",
    "pn.extension(\"perspective\")"
   ]
  },
  {
   "cell_type": "markdown",
   "metadata": {},
   "source": [
    "# PerspectiveViewer - Reference Guide\n",
    "\n",
    "[Perspective](https://github.com/finos/perspective) ships with the `PerspectiveViewer`, which is an awesome **interactive Pivot Table + Chart** webcomponent.  You can even use it for **streaming analytics**.\n",
    "\n",
    "<img src=\"https://raw.githubusercontent.com/MarcSkovMadsen/awesome-panel-extensions/master/assets/videos/perspective-viewer-finos.gif\" style=\"max-height:400px\">\n",
    "\n",
    "The `PerspectiveViewer` enables the use of the `perspective-viewer` webcomponent in Panel.\n",
    "\n",
    "#### Parameters:\n",
    "\n",
    "* **``value``** (DataFrame): The data loaded to the viewer.\n",
    "\n",
    "\n",
    "* **``plugin``** (str): Determines how to display the data. One of `hypergrid`, `datagrid`, `d3_y_bar`, `d3_x_bar`, `d3_y_line`, `d3_y_area`, `d3_y_scatter`, `d3_xy_scatter`, `d3_treemap`, `d3_sunburst`, `d3_heatmap`, `d3_candlestick`, `d3_ohlc`.\n",
    "* **``theme``** (str): Determines the style. One of `material` (default), `material-dark`, `material-dense`, `material-dense-dark`, `vaporwave`.\n",
    "\n",
    "\n",
    "* **``columns``** (list): A list of source columns to show as columns. For example `[\"x\", \"y\"]`.\n",
    "* **``columns_computed``** (list): A list of computed columns. For example [\"\\\\\"x\\\\\"+\\\\\"y\\\\\"\"].\n",
    "* **``columns_pivot``** (list): A list of source columns to pivot by. For example `[\"x\", \"y\"]`.\n",
    "* **``rows_pivot``** (list): A list of source columns to group by. For example `[\"x\", \"y\"]`.\n",
    "* **``aggregates``** (dict): How to aggregate. For example `{x: \"distinct count\"}`.\n",
    "* **``sort``** (list): How to sort. For example `[[\"x\",\"desc\"]]`.\n",
    "* **``filter``** (list): How to filter. For example `[[\"x\", \"<\", 3],[\"y\", \"contains\", \"abc\"]]`.\n",
    "\n",
    "#### Functions\n",
    "\n",
    "* **``stream``**. Streams (appends) the `stream_value` provided to the existing `value` in an efficient manner and triggers a value changed event.\n",
    "* **``patch``**. Patches (updates) the existing value with the `patch_value` in an efficient manner and triggers a value changed event.\n",
    "\n",
    "The `PerspectiveViewer` has the same layout and styling parameters as most other widgets. For example `width` and `sizing_mode`.\n",
    "\n",
    "___\n",
    "\n",
    "Let's start by importing the **dependencies**"
   ]
  },
  {
   "cell_type": "code",
   "execution_count": null,
   "metadata": {},
   "outputs": [],
   "source": [
    "import param\n",
    "import pandas as pd\n",
    "import panel as pn\n",
    "import time\n",
    "\n",
    "DARK_BACKGROUND = \"rgb(42, 44, 47)\"\n",
    "DARK_COLOR = \"white\"\n",
    "PERSPECTIVE_LOGO = \"https://perspective.finos.org/img/logo.png\"\n",
    "PANEL_LOGO = \"https://panel.holoviz.org/_static/logo_horizontal.png\""
   ]
  },
  {
   "cell_type": "markdown",
   "metadata": {},
   "source": [
    "Let's load **S&P500 financials data**"
   ]
  },
  {
   "cell_type": "code",
   "execution_count": null,
   "metadata": {},
   "outputs": [],
   "source": [
    "# Source: https://datahub.io/core/s-and-p-500-companies-financials\n",
    "DATA = \"https://raw.githubusercontent.com/MarcSkovMadsen/awesome-panel/master/application/pages/awesome_panel_express_tests/PerspectiveViewerData.csv\"\n",
    "dataframe = pd.read_csv(DATA)"
   ]
  },
  {
   "cell_type": "markdown",
   "metadata": {},
   "source": [
    "Let's create a **PerspectiveViewer app** to display the data"
   ]
  },
  {
   "cell_type": "code",
   "execution_count": null,
   "metadata": {},
   "outputs": [],
   "source": [
    "dataframe.columns"
   ]
  },
  {
   "cell_type": "code",
   "execution_count": null,
   "metadata": {
    "scrolled": false
   },
   "outputs": [],
   "source": [
    "COLUMNS = [\n",
    "    \"Name\",\n",
    "    \"Symbol\",\n",
    "    \"Sector\",\n",
    "    \"Price\",\n",
    "    \"52 Week Low\",\n",
    "    \"52 Week High\",\n",
    "    \"Price/Earnings\",\n",
    "    \"Price/Sales\",\n",
    "    \"Price/Book\",\n",
    "    \"Dividend Yield\",\n",
    "    \"Earnings/Share\",\n",
    "    \"Market Cap\",\n",
    "    \"EBITDA\",\n",
    "    \"SEC Filings\",\n",
    "]\n",
    "perspective_viewer = PerspectiveViewer(\n",
    "    value=dataframe,\n",
    "    theme=\"material-dark\",\n",
    "    columns=COLUMNS,\n",
    "    sizing_mode=\"stretch_both\",)\n",
    "\n",
    "top_app_bar = pn.Row(\n",
    "    pn.pane.PNG(PERSPECTIVE_LOGO, height=50, margin=(10, 25, 10, 10)),\n",
    "    pn.layout.HSpacer(),\n",
    "    margin=0,\n",
    "    background=DARK_BACKGROUND,\n",
    ")\n",
    "\n",
    "settings_parameters = [\n",
    "    \"theme\",\n",
    "    \"row_pivots\",\n",
    "    \"plugin\",\n",
    "    \"columns\",\n",
    "    \"aggregates\",\n",
    "    \"filters\",\n",
    "    \"sort\",\n",
    "    \"rows\",\n",
    "    \"column_pivots\",\n",
    "]\n",
    "\n",
    "settings_pane = pn.WidgetBox(pn.Param(\n",
    "    perspective_viewer,\n",
    "    parameters=settings_parameters,\n",
    "    width=200,\n",
    "    sizing_mode=\"stretch_height\",\n",
    "),background=\"#9E9E9E\",)\n",
    "\n",
    "app = pn.Column(\n",
    "    pn.pane.Markdown(__doc__),\n",
    "    top_app_bar,\n",
    "    pn.Row(\n",
    "        perspective_viewer,\n",
    "        pn.layout.VSpacer(width=10),\n",
    "        settings_pane,\n",
    "        sizing_mode=\"stretch_both\",\n",
    "        margin=0,\n",
    "        background=DARK_BACKGROUND,\n",
    "    ),\n",
    "    pn.layout.HSpacer(height=50),\n",
    "    height=800, sizing_mode=\"stretch_width\",\n",
    ")\n",
    "\n",
    "app"
   ]
  },
  {
   "cell_type": "markdown",
   "metadata": {},
   "source": [
    "**Click the three dots in the upper left corner** to start the interactive exploration!"
   ]
  },
  {
   "cell_type": "markdown",
   "metadata": {},
   "source": [
    "## Streaming and Patching\n",
    "\n",
    "The `PerspectiveViewer` supports streaming (i.e. appending) and patching (i.e. updating) data via dedicated, efficient methods\n",
    "\n",
    "Let's try it out on a small example"
   ]
  },
  {
   "cell_type": "code",
   "execution_count": null,
   "metadata": {},
   "outputs": [],
   "source": [
    "SHOW_HTML = True\n",
    "# pn.config.sizing_mode = \"stretch_width\"\n",
    "data = [\n",
    "    {\"x\": 1, \"y\": \"a\", \"z\": True},\n",
    "    {\"x\": 2, \"y\": \"b\", \"z\": False},\n",
    "    {\"x\": 3, \"y\": \"c\", \"z\": True},\n",
    "    {\"x\": 4, \"y\": \"d\", \"z\": False},\n",
    "]\n",
    "dataframe = pd.DataFrame(data)\n",
    "perspective = PerspectiveViewer(\n",
    "    height=500, value=dataframe.copy(deep=True), columns=[\"index\", \"x\", None, None,None], plugin=\"d3_xy_scatter\", sizing_mode=\"stretch_width\"\n",
    ")\n",
    "import random\n",
    "\n",
    "def stream(*events):\n",
    "    new_index = perspective.value.index.max()\n",
    "    new_data = {\"x\": [random.uniform(-3, new_index)], \"y\": [\"e\"], \"z\": [True]}\n",
    "    new_series = pd.DataFrame(data=new_data)\n",
    "    perspective.stream(new_series)\n",
    "\n",
    "stream_button = pn.widgets.Button(name=\"STREAM\", button_type=\"success\")\n",
    "stream_button.on_click(stream)\n",
    "\n",
    "def patch(*events):\n",
    "    new_value = perspective.value.copy(deep=True)\n",
    "    new_value[\"x\"]=new_value[\"x\"]-1\n",
    "    new_value[\"z\"]=~new_value[\"z\"]\n",
    "    perspective.patch(new_value)\n",
    "\n",
    "patch_button = pn.widgets.Button(name=\"PATCH\", button_type=\"default\")\n",
    "patch_button.on_click(patch)\n",
    "\n",
    "def reset(*events):\n",
    "    perspective.value = dataframe.copy(deep=True)\n",
    "\n",
    "reset_button = pn.widgets.Button(name=\"RESET\", button_type=\"default\")\n",
    "reset_button.on_click(reset)\n",
    "\n",
    "pn.Column(\n",
    "    top_app_bar,\n",
    "    pn.Row(\n",
    "        perspective,\n",
    "        pn.WidgetBox(stream_button, patch_button, reset_button),\n",
    "        sizing_mode=\"stretch_width\",\n",
    "    ),\n",
    "    perspective.param.value,\n",
    "    sizing_mode=\"stretch_width\"\n",
    ")"
   ]
  },
  {
   "cell_type": "markdown",
   "metadata": {},
   "source": [
    "## Resources\n",
    "\n",
    "- [Perspective Github](https://github.com/finos/perspective)\n",
    "- [Perspective IPyWidget Docs](https://perspective-python.readthedocs.io/en/latest/quickstart.html)"
   ]
  }
 ],
 "metadata": {
  "kernelspec": {
   "display_name": "Python 3",
   "language": "python",
   "name": "python3"
  },
  "language_info": {
   "codemirror_mode": {
    "name": "ipython",
    "version": 3
   },
   "file_extension": ".py",
   "mimetype": "text/x-python",
   "name": "python",
   "nbconvert_exporter": "python",
   "pygments_lexer": "ipython3",
   "version": "3.7.8"
  }
 },
 "nbformat": 4,
 "nbformat_minor": 4
}
