{
 "cells": [
  {
   "cell_type": "markdown",
   "metadata": {},
   "source": [
    "# WebComponent Reference Guide"
   ]
  },
  {
   "cell_type": "code",
   "execution_count": null,
   "metadata": {},
   "outputs": [],
   "source": [
    "import param\n",
    "import panel as pn\n",
    "\n",
    "js_files = {\n",
    "    'webcomponents': \"https://unpkg.com/@webcomponents/webcomponentsjs@2.2.7/webcomponents-loader.js\",\n",
    "    'model_viewer': \"https://unpkg.com/@google/model-viewer/dist/model-viewer-legacy.js\",\n",
    "    'resize': \"https://unpkg.com/resize-observer-polyfill@1.5.1/dist/ResizeObserver.js\",\n",
    "    'echarts': \"https://cdn.bootcss.com/echarts/3.7.2/echarts.min.js\",\n",
    "}\n",
    "\n",
    "pn.extension(js_files=js_files)\n",
    "\n",
    "pn.config.sizing_mode=\"stretch_width\""
   ]
  },
  {
   "cell_type": "markdown",
   "metadata": {},
   "source": [
    "WebComponent\n",
    "============\n",
    "\n",
    "Use the WebComponent to quickly **plugin** webcomponents and/ or Javascript libraries not already\n",
    "supported in Panel.\n",
    "\n",
    "You can use it by instantiating an instance or inheriting from it.\n",
    "\n",
    "Parameters\n",
    "---------------\n",
    "\n",
    "- `attributes_to_watch`: A dictionary of (`html_attribute`, `python_parameter`) names\n",
    "    - The value of `python_parameter`  will be used to set the `html_attribute` on construction. \n",
    "    - The value of `python_parameter` and `html_attribute` will be kept in sync (*two way binding*).\n",
    "    - The value of `html_attribute` may not be None\n",
    "    - The value of `python_parameter` can be None.\n",
    "- `properties_to_watch`: A dictionary of (`js_property`, `python_parameter`) names\n",
    "    - The value of `python_parameter`  will be used to set the `js_property` on construction. \n",
    "    - The value of `python_parameter` and `js_property` will be kept in sync (*two way binding*).\n",
    "    - The value of `js_property` may not be None\n",
    "    - The value of `python_parameter` can be None.\n",
    "    - You can specify a nested `js_property` like `textInput.value` as key.\n",
    "- `events_to_watch`: A Dictionary of (`js_event`, `python_parameter_to_inc`) names.\n",
    "    - The `js_event` will be watched on the JavaScript side. When fired the javascript code will \n",
    "        - Increment the `python_parameter_to_inc` with `+1` if specified.\n",
    "        - check whether any `js_property` key in `properties_to_watch` has changed and if yes then it will be synced to the associated `python_parameter` value.\n",
    "- The `column_data_source` can be used to efficiently transfer columnar data to the javascript side.\n",
    "    - The `column_data_source_orient` is used to specify how the data should be input to the `column_data_source_load_function` below.\n",
    "         - For now `dict` and `records` are supported.\n",
    "         - See the `orient` parameter of the [pandas.to_dict](https://pandas.pydata.org/pandas-docs/stable/reference/api/pandas.DataFrame.to_dict.html) function for more info.\n",
    "- The `column_data_source_load_function` specifies the name of the js function on the that will load the data.\n",
    "\n",
    "Other\n",
    "-------\n",
    "\n",
    "- If the JavaScript WebComponent contains an `after_layout` function this is used to\n",
    "resize the JS WebComponent. An example is the ECharts web component.\n",
    "\n",
    "- You will propably have to experiment a bit in order to determine which\n",
    "javascript files to import and what combination of attributes, properties, events and/ or\n",
    "parameters to watch.\n",
    "___"
   ]
  },
  {
   "cell_type": "markdown",
   "metadata": {},
   "source": [
    "## Introduction\n",
    "\n",
    "Web Components powers the modern web. For an introduction and overview see [Web Components: The Secret Ingredient Helping Power The Web](https://www.youtube.com/watch?v=YBwgkr_Sbx0).\n",
    "\n",
    "You can find web components to use in your Panel Project at \n",
    "\n",
    "- [webcomponent.org](https://www.webcomponents.org/)\n",
    "- [npm](https://www.npmjs.com/), \n",
    "\n",
    "Please note that picking and using a web component library can be **challenging** as the web component standard and packages are rapidly evolving. You might have to do some experimentation before it works for you."
   ]
  },
  {
   "cell_type": "markdown",
   "metadata": {},
   "source": [
    "## Google Model Viewer\n",
    "\n",
    "Google has developed a `model-viewer` web component for interactively viewing very large and detailed 3D models. For an introduction see [modelviewer.dev](https://modelviewer.dev/)"
   ]
  },
  {
   "cell_type": "code",
   "execution_count": null,
   "metadata": {},
   "outputs": [],
   "source": [
    "html = \"\"\"\n",
    "<model-viewer src=\"https://modelviewer.dev/shared-assets/models/Astronaut.glb\" alt=\"A 3D model of an astronaut\"\n",
    "auto-rotate camera-controls style=\"height:100%;width:100%;\">\n",
    "</model-viewer>\n",
    "\"\"\"\n",
    "\n",
    "pn.pane.WebComponent(html=html, height=300)"
   ]
  },
  {
   "cell_type": "markdown",
   "metadata": {},
   "source": [
    "Try dragging the astronaut around. Please note that we haveve specified a **fixed height** for the `model-viewer`. This is important to do."
   ]
  },
  {
   "cell_type": "markdown",
   "metadata": {},
   "source": [
    "### Advanced Version"
   ]
  },
  {
   "cell_type": "markdown",
   "metadata": {},
   "source": [
    "Please that this example **might take 15 secs to 2 minutes to load** depending on you internet connection."
   ]
  },
  {
   "cell_type": "code",
   "execution_count": null,
   "metadata": {},
   "outputs": [],
   "source": [
    "astronaut_src = \"https://modelviewer.dev/shared-assets/models/Astronaut.glb\"\n",
    "flight_helmet_src=\"https://modelviewer.dev/shared-assets/models/glTF-Sample-Models/2.0/FlightHelmet/glTF/FlightHelmet.gltf\"\n",
    "\n",
    "class ModelViewer(pn.pane.WebComponent):\n",
    "    \"\"\"A Wired ModelViewer\"\"\"\n",
    "    html = param.String(html)\n",
    "    attributes_to_watch= param.Dict({\"src\": \"src\"})\n",
    "    properties_to_watch= param.Dict({\"exposure\": \"exposure\"})\n",
    "\n",
    "    src = param.String(astronaut_src)\n",
    "    exposure = param.Number(1.0, bounds=(0, 2))\n",
    "\n",
    "\n",
    "model_viewer = ModelViewer(height=600, src=flight_helmet_src)\n",
    "\n",
    "pn.Row(\n",
    "    model_viewer, pn.Param(model_viewer, parameters=[\"exposure\"]),\n",
    ")"
   ]
  },
  {
   "cell_type": "markdown",
   "metadata": {},
   "source": [
    "To get inspiration for a more interactive version see [model-viewer tester](https://modelviewer.dev/examples/tester.html)."
   ]
  },
  {
   "cell_type": "markdown",
   "metadata": {},
   "source": [
    "## ECharts/ PyeChart\n",
    "\n",
    "[ECharts](https://www.echartsjs.com/en/index.html) is an open-sourced JavaScript\n",
    "visualization tool, which can run fluently on PC and mobile devices.\n",
    "It is compatible with most modern Web Browsers. Its also an **Apache incubator project**.\n",
    "\n",
    "[Pyecharts](https://pyecharts.org/#/en-us/) is a Python api for using ECharts in Python\n",
    "including Standalone, Flask, Django and Jupyter Notebooks.\n",
    "\n",
    "Below we develop an `EChart` pane capable of showing Echarts dicts and Pyecharts objects."
   ]
  },
  {
   "cell_type": "code",
   "execution_count": null,
   "metadata": {},
   "outputs": [],
   "source": [
    "ECHARTS_HTML = \"\"\"\n",
    "<div class=\"echart\" style=\"width:100%;height:100%;\"></div>\n",
    "<script type=\"text/javascript\">\n",
    "    var myScript = document.currentScript;\n",
    "    var myDiv = myScript.parentElement.firstElementChild;\n",
    "    var myChart = echarts.init(myDiv);\n",
    "    myDiv.eChart = myChart;\n",
    "    Object.defineProperty(myDiv, 'option', {\n",
    "       get: function() { return null; },\n",
    "       set: function(val) { this.eChart.setOption(val); this.eChart.resize();}\n",
    "    });\n",
    "    myDiv.after_layout = myChart.resize; // Resizes the chart after layout of parent element\n",
    "</script>\n",
    "\"\"\"\n",
    "\n",
    "class EChart(pn.pane.WebComponent):\n",
    "    html = param.String(ECHARTS_HTML)\n",
    "    properties_to_watch = param.Dict({\"option\": \"option\"})\n",
    "\n",
    "    echart = param.Parameter()\n",
    "    option = param.Dict()\n",
    "\n",
    "    def __init__(self, **params):\n",
    "        if \"echart\" in params:\n",
    "            params[\"option\"] = self._to_echart_dict(params[\"echart\"])\n",
    "        super().__init__(**params)\n",
    "\n",
    "    @classmethod\n",
    "    def _to_echart_dict(cls, echart):\n",
    "        if isinstance(echart, dict):\n",
    "            return echart\n",
    "        if 'pyecharts' in sys.modules:\n",
    "            import pyecharts\n",
    "            if isinstance(echart, pyecharts.charts.chart.Chart):\n",
    "                return json.loads(echart.dump_options())\n",
    "\n",
    "        return {}\n",
    "\n",
    "    @param.depends(\"echart\", watch=True)\n",
    "    def update(self):\n",
    "        self.option = self._to_echart_dict(self.echart)"
   ]
  },
  {
   "cell_type": "code",
   "execution_count": null,
   "metadata": {},
   "outputs": [],
   "source": [
    "ECHART_DICT = {\n",
    "    \"title\": {\"text\": \"ECharts entry example\"},\n",
    "    \"tooltip\": {},\n",
    "    \"legend\": {\"data\": [\"Sales\"]},\n",
    "    \"xAxis\": {\"data\": [\"shirt\", \"cardign\", \"chiffon shirt\", \"pants\", \"heels\", \"socks\"]},\n",
    "    \"yAxis\": {},\n",
    "    \"series\": [{\"name\": \"Sales\", \"type\": \"bar\", \"data\": [5, 20, 36, 10, 10, 20]}],\n",
    "}\n",
    "\n",
    "app = pn.Column(\n",
    "    EChart(echart=ECHART_DICT, height=500),\n",
    ")\n",
    "\n",
    "app"
   ]
  },
  {
   "cell_type": "markdown",
   "metadata": {},
   "source": [
    "## WiredJS"
   ]
  },
  {
   "cell_type": "markdown",
   "metadata": {},
   "source": [
    "[Wiredjs](https://wiredjs.com/) is a set of common UI elements with a hand-drawn, sketchy look. These can be used for wireframes, mockups, or just the fun hand-drawn look.\n",
    "\n",
    "For a demo of all available components see the [WiredJS ShowCase](https://wiredjs.com/showcase.html)"
   ]
  },
  {
   "cell_type": "code",
   "execution_count": null,
   "metadata": {},
   "outputs": [],
   "source": [
    "js = \"\"\"\n",
    "<script src=\"https://unpkg.com/@webcomponents/webcomponentsjs@2.2.7/webcomponents-loader.js\"></script>\n",
    "<script src=\"https://wiredjs.com/dist/showcase.min.js\"></script>\n",
    "\"\"\"\n",
    "\n",
    "ELEVATION_DEFAULT = 0\n",
    "ELEVATION_BOUNDS = (0, 10)\n",
    "\n",
    "class WiredBase(pn.pane.WebComponent):\n",
    "    \"\"\"Inherit from this class\"\"\"\n",
    "\n",
    "    def __init__(self, **params):\n",
    "        if not self.param.attributes_to_watch.default:\n",
    "            self.param.attributes_to_watch.default = {}\n",
    "        self.attributes_to_watch[\"disabled\"] = \"disabled\"\n",
    "\n",
    "        super().__init__(**params)\n",
    "\n",
    "    def _child_parameters(self):\n",
    "        parameters = super()._child_parameters()\n",
    "        parameters.add(\"disabled\")\n",
    "        return parameters\n",
    "\n",
    "\n",
    "class Button(WiredBase):\n",
    "    \"\"\"A Wired RadioButton\n",
    "\n",
    "    - You can set the `text` shown via the `name` parameter.\n",
    "    \"\"\"\n",
    "\n",
    "    html = param.String(\"<wired-button ></wired-button>\")\n",
    "    attributes_to_watch = param.Dict({\"elevation\": \"elevation\"})\n",
    "    events_to_watch = param.Dict(default={\"click\": \"clicks\"})\n",
    "    parameters_to_watch = param.List([\"name\"])\n",
    "\n",
    "    clicks = param.Integer()\n",
    "    elevation = param.Integer(ELEVATION_DEFAULT, bounds=ELEVATION_BOUNDS)\n",
    "    \n",
    "    def __init__(self, **params):\n",
    "        if \"height\" not in params:\n",
    "            params[\"height\"]=40\n",
    "        super().__init__(**params)\n",
    "\n",
    "    def _get_html_from_parameters_to_watch(self, **params) -> str:\n",
    "        return f\"<wired-button>{params['name']}</wired-button>\"\n",
    "\n",
    "class Checkbox(WiredBase):\n",
    "    html = param.String(\"<wired-checkbox></wired-checkbox>\")\n",
    "    properties_to_watch = param.Dict({\"checked\": \"value\"})\n",
    "    parameters_to_watch = param.List([\"name\"])\n",
    "\n",
    "    value = param.Boolean()\n",
    "    \n",
    "    def __init__(self, **params):\n",
    "        if \"height\" not in params:\n",
    "            params[\"height\"]=40\n",
    "        \n",
    "        super().__init__(**params)\n",
    "\n",
    "    def _get_html_from_parameters_to_watch(self, **params) -> str:\n",
    "        return f\"<wired-checkbox>{params['name']}</wired-checkbox>\""
   ]
  },
  {
   "cell_type": "code",
   "execution_count": null,
   "metadata": {},
   "outputs": [],
   "source": [
    "js_pane = pn.pane.HTML(js)\n",
    "\n",
    "button = Button(name=\"Click me\")\n",
    "check_box = Checkbox(name=\"Check me\")\n",
    "\n",
    "pn.Column(\n",
    "    js, \n",
    "    pn.Row(\n",
    "        pn.Column(\"## Button\", button, pn.Param(button, parameters=[\"name\", \"clicks\", \"elevation\"])), \n",
    "        pn.layout.VSpacer(width=5, background=\"lightgrey\"),\n",
    "        pn.Column(\"## CheckBox\", check_box, pn.Param(check_box, parameters=[\"name\", \"value\"])),\n",
    "    )\n",
    ")"
   ]
  },
  {
   "cell_type": "markdown",
   "metadata": {},
   "source": [
    "## Web Component Libraries\n",
    "\n",
    "You can find web components at\n",
    "\n",
    "- [webcomponents.org](https://www.webcomponents.org/)\n",
    "- [npm](https://www.npmjs.com/)\n",
    "\n",
    "Some example libraries are\n",
    "\n",
    "- [Material](https://github.com/material-components/material-components-web-components#readme) (Work in Progress)\n",
    "- [Vaadin](https://vaadin.com/components)\n",
    "- [Smart Elements](https://www.webcomponents.org/element/@smarthtmlelements/smart-bootstrap)"
   ]
  },
  {
   "cell_type": "markdown",
   "metadata": {},
   "source": [
    "### Prebuilt libraries from unpkg.com\n",
    "\n",
    "If you find a web component library on [npm](https://npmjs.com) you can find the corresponding precombiled library on [unpkg](https://unpkg.com) for use with Panel.\n",
    "\n",
    "For example if you find the `wired-button` at [https://www.npmjs.com/package/wired-button](https://www.npmjs.com/package/wired-button) then you can browse the precompiled files at [https://www.unpkg.com/browse/wired-button/](https://www.unpkg.com/browse/wired-button/) to locate the relevant precombiled file at [https://www.unpkg.com/wired-button@2.0.0/lib/wired-button.js](https://www.unpkg.com/wired-button@2.0.0/lib/wired-button.js)."
   ]
  },
  {
   "cell_type": "markdown",
   "metadata": {},
   "source": [
    "## References\n",
    "\n",
    "- [Build an app with WebComponents in 9 minutes](https://www.youtube.com/watch?v=mTNdTcwK3MM)\n",
    "- [How to use Web Components in a JavaScript project](https://www.youtube.com/watch?v=88Sa-SlHRxk&t=63s)"
   ]
  },
  {
   "cell_type": "markdown",
   "metadata": {},
   "source": [
    "## Credits\n",
    "\n",
    "- [Marc Skov Maddsen](datamodelsanalytics.com), [awesome-panel.org](https://awesome-panel.org)"
   ]
  }
 ],
 "metadata": {
  "kernelspec": {
   "display_name": "Python 3",
   "language": "python",
   "name": "python3"
  },
  "language_info": {
   "codemirror_mode": {
    "name": "ipython",
    "version": 3
   },
   "file_extension": ".py",
   "mimetype": "text/x-python",
   "name": "python",
   "nbconvert_exporter": "python",
   "pygments_lexer": "ipython3",
   "version": "3.7.5"
  }
 },
 "nbformat": 4,
 "nbformat_minor": 4
}
