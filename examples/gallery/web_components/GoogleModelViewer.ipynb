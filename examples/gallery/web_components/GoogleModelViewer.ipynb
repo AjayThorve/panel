{
 "cells": [
  {
   "cell_type": "markdown",
   "metadata": {},
   "source": [
    "## Google Model Viewer\n",
    "\n",
    "Google has developed a `model-viewer` web component for interactively viewing very large and detailed 3D models.\n",
    "\n",
    "In this notebook we will demonstrate how to create a **Panel** `ModelViewer` component that will enable you to use it in your awesome app. Powered by **Python**.\n",
    "\n",
    "[![ModelViewer Image](https://codelabs.developers.google.com/codelabs/model-viewer/img/86a799664535dbcc.gif)](https://modelviewer.dev/)\n",
    "\n",
    "**Author:** [Marc Skov Madsen](datamodelsanalytics.com) ([awesome-panel.org](https://awesomepanel.org))\n",
    "\n",
    "**Resources:**\n",
    "[modelviewer.dev](https://modelviewer.dev/). \n",
    "[examples](https://modelviewer.dev/examples/tester.html)\n",
    "[codelabs](https://codelabs.developers.google.com/codelabs/model-viewer/index.html?index=..%2F..index#0)\n",
    "[Github](https://github.com/google/model-viewer/tree/master/packages/model-viewer)\n",
    "\n",
    "**Tags:** \n",
    "[model-viewer](https://modelviewer.dev/)\n",
    "[Panel](https://panel.holoviz.org/index.html)\n",
    "[Python](https://www.python.org/)\n",
    "\n",
    "**License:**\n",
    "[MIT](https://opensource.org/licenses/MIT)"
   ]
  },
  {
   "cell_type": "markdown",
   "metadata": {},
   "source": [
    "## Code"
   ]
  },
  {
   "cell_type": "markdown",
   "metadata": {},
   "source": [
    "### HTML\n",
    "\n",
    "The `model-viewer` can be used by importing the *javascript* packages below."
   ]
  },
  {
   "cell_type": "code",
   "execution_count": null,
   "metadata": {},
   "outputs": [],
   "source": [
    "%%HTML\n",
    "\n",
    "<script src=\"https://unpkg.com/@webcomponents/webcomponentsjs@2.2.7/webcomponents-loader.js\"></script>\n",
    "<script type=\"module\" src=\"https://unpkg.com/@google/model-viewer/dist/model-viewer.js\"></script>\n",
    "<script nomodule src=\"https://unpkg.com/@google/model-viewer/dist/model-viewer-legacy.js\"></script>\n",
    "<script src=\"https://unpkg.com/resize-observer-polyfill@1.5.1/dist/ResizeObserver.js\"></script>\n",
    "\n",
    "<model-viewer src=\"https://modelviewer.dev/shared-assets/models/Astronaut.glb\" alt=\"A 3D model of an astronaut\"\n",
    "auto-rotate camera-controls style=\"height:200px;width:200px;\">\n",
    "</model-viewer>"
   ]
  },
  {
   "cell_type": "markdown",
   "metadata": {},
   "source": [
    "## `ModelViewer` Implementation"
   ]
  },
  {
   "cell_type": "code",
   "execution_count": null,
   "metadata": {},
   "outputs": [],
   "source": [
    "import panel as pn\n",
    "import param\n",
    "\n",
    "pn.extension()"
   ]
  },
  {
   "cell_type": "code",
   "execution_count": null,
   "metadata": {},
   "outputs": [],
   "source": [
    "JS = \"\"\"\n",
    "<script src=\"https://unpkg.com/@webcomponents/webcomponentsjs@2.2.7/webcomponents-loader.js\"></script>\n",
    "<script type=\"module\" src=\"https://unpkg.com/@google/model-viewer/dist/model-viewer.js\"></script>\n",
    "<script nomodule src=\"https://unpkg.com/@google/model-viewer/dist/model-viewer-legacy.js\"></script>\n",
    "<script src=\"https://unpkg.com/resize-observer-polyfill@1.5.1/dist/ResizeObserver.js\"></script>\n",
    "\"\"\"\n",
    "\n",
    "HTML=\"\"\"\n",
    "<model-viewer src=\"https://modelviewer.dev/shared-assets/models/Astronaut.glb\" alt=\"A 3D model of an astronaut\"\n",
    "auto-rotate camera-controls>\n",
    "</model-viewer>\n",
    "\"\"\"\n",
    "\n",
    "MODELS = {\n",
    "    \"Astronaut\": \"https://modelviewer.dev/shared-assets/models/Astronaut.glb\",\n",
    "    \"Boom Box\": \"https://modelviewer.dev/shared-assets/models/glTF-Sample-Models/2.0/BoomBox/glTF-Binary/BoomBox.glb\",\n",
    "    \"Brain Stem\": \"https://modelviewer.dev/shared-assets/models/glTF-Sample-Models/2.0/BrainStem/glTF-Binary/BrainStem.glb\",\n",
    "    \"Corset\": \"https://modelviewer.dev/shared-assets/models/glTF-Sample-Models/2.0/Corset/glTF-Binary/Corset.glb\",\n",
    "    \"Damaged Helmet\": \"https://modelviewer.dev/shared-assets/models/glTF-Sample-Models/2.0/DamagedHelmet/glTF-Binary/DamagedHelmet.glb\",\n",
    "    \"Flight Helmet\": \"https://modelviewer.dev/shared-assets/models/glTF-Sample-Models/2.0/FlightHelmet/glTF/FlightHelmet.gltf\",\n",
    "    \"Lantern\": \"https://modelviewer.dev/shared-assets/models/glTF-Sample-Models/2.0/Lantern/glTF-Binary/Lantern.glb\",\n",
    "    \"Monkey\": \"https://modelviewer.dev/shared-assets/models/glTF-Sample-Models/2.0/Suzanne/glTF/Suzanne.gltf\",\n",
    "    \"Water Bottles\": \"https://modelviewer.dev/shared-assets/models/glTF-Sample-Models/2.0/SpecGlossVsMetalRough/glTF-Binary/SpecGlossVsMetalRough.glb\",\n",
    "    \"Robot Expressive\": \"https://modelviewer.dev/shared-assets/models/RobotExpressive.glb\",\n",
    "    \"Transparency Test\": \"https://modelviewer.dev/shared-assets/models/alpha-blend-litmus.glb\",\n",
    "    \"Metal Rough Spheres\": \"https://modelviewer.dev/shared-assets/models/glTF-Sample-Models/2.0/MetalRoughSpheres/glTF/MetalRoughSpheres.gltf\",\n",
    "}\n",
    "\n",
    "SRC_DEFAULT = MODELS[\"Flight Helmet\"]\n",
    "\n",
    "HEIGHT_DEFAULT = 600\n",
    "HEIGHT_BOUNDS = (50,1000)\n",
    "WIDTH_DEFAULT = 600\n",
    "WIDTH_BOUNDS = (50,1000)\n",
    "\n",
    "BACKGROUND=\"#9E9E9E\"\n",
    "\n",
    "PARAMETERS = [\n",
    "    \"src\",\n",
    "    \"height\",\n",
    "    \"width\",\n",
    "    \"exposure\",\n",
    "    # \"auto_rotate\",\n",
    "    # \"camera_controls\",\n",
    "]"
   ]
  },
  {
   "cell_type": "code",
   "execution_count": null,
   "metadata": {},
   "outputs": [],
   "source": [
    "class ModelViewer(pn.pane.WebComponent):\n",
    "    \"\"\"A Wired ModelViewer\"\"\"\n",
    "    html = param.String(HTML)\n",
    "    attributes_to_watch= param.Dict({\"src\": \"src\"})\n",
    "    properties_to_watch= param.Dict({\n",
    "        \"exposure\": \"exposure\", \n",
    "        \"auto-rotate\": \"auto_rotate\",\n",
    "        \"camera-controls\": \"camera_controls\",\n",
    "    })\n",
    "\n",
    "    src = param.ObjectSelector(default=SRC_DEFAULT, objects=MODELS)\n",
    "    exposure = param.Number(1.0, bounds=(0, 2))\n",
    "    auto_rotate = param.Boolean()\n",
    "    camera_controls = param.Boolean()\n",
    "    \n",
    "    height = param.Integer(default=HEIGHT_DEFAULT, bounds=HEIGHT_BOUNDS)\n",
    "    width = param.Integer(default=WIDTH_DEFAULT, bounds=WIDTH_BOUNDS)\n",
    "    \n",
    "    style = param.String()\n",
    "    \n",
    "    def __init__(self, **params):\n",
    "        super().__init__(**params)\n",
    "        \n",
    "        self.css_pane = pn.pane.HTML()\n",
    "        self.js_pane = pn.pane.HTML(JS)\n",
    "        \n",
    "        self._update_height_and_width()\n",
    "    \n",
    "    def view(self):\n",
    "        return pn.Column(\n",
    "            self,\n",
    "            self.js_pane,\n",
    "            self.css_pane,\n",
    "            sizing_mode=\"stretch_both\",\n",
    "        )\n",
    "    \n",
    "    @param.depends(\"height\", \"width\", watch=True)\n",
    "    def _update_height_and_width(self):\n",
    "        if self.height:\n",
    "            height=self.height\n",
    "        else:\n",
    "            height=HEIGHT_DEFAULT\n",
    "        if self.width:\n",
    "            width=self.width\n",
    "        else:\n",
    "            width=WIDTH_DEFAULT\n",
    "        \n",
    "        self.css_pane.object = f\"\"\"\n",
    "<style>\n",
    "model-viewer {{\n",
    "    height:{height}px;\n",
    "    width:{width}px;\n",
    "}}\n",
    "</style>\n",
    "\"\"\""
   ]
  },
  {
   "cell_type": "markdown",
   "metadata": {},
   "source": [
    "## Output\n",
    "\n",
    "### Simple App"
   ]
  },
  {
   "cell_type": "code",
   "execution_count": null,
   "metadata": {},
   "outputs": [],
   "source": [
    "simple_viewer = ModelViewer(height=200,width=200)\n",
    "simple_view = simple_viewer.view()\n",
    "simple_view"
   ]
  },
  {
   "cell_type": "markdown",
   "metadata": {},
   "source": [
    "### ModelViewer App"
   ]
  },
  {
   "cell_type": "code",
   "execution_count": null,
   "metadata": {},
   "outputs": [],
   "source": [
    "MODELVIEWER_LOGO = '<img src=\"https://avatars1.githubusercontent.com/u/1342004?v=4&amp;s=40\" style=\"height:50px\"></img>'\n",
    "PANEL_LOGO = '<img src=\"https://panel.holoviz.org/_static/logo_stacked.png\" style=\"height:50px\"></img>'\n",
    "BLUE = \"#5dbcd2\"\n",
    "GRAY=\"#eeeeee\"\n",
    "\n",
    "def create_app(**params):\n",
    "    top_app_bar = pn.Column(\n",
    "        pn.layout.Row(\n",
    "            pn.pane.HTML(MODELVIEWER_LOGO, width=50),\n",
    "            pn.pane.Markdown(\"#### model-viewer\", width=120, margin=(10,5,0,0)),\n",
    "            pn.pane.HTML(PANEL_LOGO, width=75),\n",
    "            sizing_mode=\"stretch_width\"),\n",
    "        pn.layout.HSpacer(height=2),\n",
    "        height=60,\n",
    "        sizing_mode=\"stretch_width\",\n",
    "        background=GRAY,\n",
    "    )\n",
    "    \n",
    "    model_viewer = ModelViewer(height=500,width=650)\n",
    "    \n",
    "    settings_bar = pn.Param(\n",
    "        model_viewer,\n",
    "        parameters=[\"src\", \"height\", \"width\", \"exposure\", \"auto_rotate\", \"camera_controls\"],\n",
    "        width=200,\n",
    "        sizing_mode=\"stretch_height\",\n",
    "        background=GRAY,\n",
    "    )\n",
    "    \n",
    "    return pn.Column(\n",
    "        top_app_bar,\n",
    "        pn.Row(model_viewer,pn.layout.HSpacer(), settings_bar),\n",
    "        model_viewer.css_pane,\n",
    "        model_viewer.js_pane,\n",
    "        background=BLUE,\n",
    "        sizing_mode=\"stretch_width\",\n",
    "    )\n",
    "    \n",
    "app = create_app()\n",
    "app"
   ]
  },
  {
   "cell_type": "code",
   "execution_count": null,
   "metadata": {},
   "outputs": [],
   "source": [
    "def show(_):\n",
    "    app = create_app()\n",
    "    app.show()\n",
    "    \n",
    "show_button = pn.widgets.Button(name=\"Run on Production Server\", button_type=\"success\", sizing_mode=\"stretch_width\")\n",
    "show_button.on_click(show)\n",
    "show_button"
   ]
  },
  {
   "cell_type": "code",
   "execution_count": null,
   "metadata": {},
   "outputs": [],
   "source": []
  }
 ],
 "metadata": {
  "kernelspec": {
   "display_name": "panel",
   "language": "python",
   "name": "panel"
  },
  "language_info": {
   "codemirror_mode": {
    "name": "ipython",
    "version": 3
   },
   "file_extension": ".py",
   "mimetype": "text/x-python",
   "name": "python",
   "nbconvert_exporter": "python",
   "pygments_lexer": "ipython3",
   "version": "3.7.4"
  }
 },
 "nbformat": 4,
 "nbformat_minor": 4
}
