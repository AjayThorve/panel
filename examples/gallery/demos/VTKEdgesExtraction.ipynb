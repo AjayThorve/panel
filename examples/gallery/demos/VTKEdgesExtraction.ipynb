{
 "cells": [
  {
   "cell_type": "markdown",
   "metadata": {},
   "source": [
    "## VTK edges extraction\n",
    "This example is inspired from this ``pyvista`` example:\n",
    "https://docs.pyvista.org/examples/01-filter/extract-edges.html#sphx-glr-examples-01-filter-extract-edges-py"
   ]
  },
  {
   "cell_type": "code",
   "execution_count": null,
   "metadata": {},
   "outputs": [],
   "source": [
    "import panel as pn\n",
    "import pyvista as pv\n",
    "from pyvista import examples\n",
    "pn.extension('vtk')"
   ]
  },
  {
   "cell_type": "code",
   "execution_count": null,
   "metadata": {},
   "outputs": [],
   "source": [
    "# download dataset\n",
    "mesh = examples.download_cow()\n",
    "\n",
    "#pyvista plotter initialization\n",
    "p = pv.Plotter()\n",
    "p.add_mesh(mesh, color=True)\n",
    "#vtk panel initialization\n",
    "vtkpan = pn.pane.VTKSynchronized(\n",
    "    p.ren_win, enable_keybindings=True,\n",
    "    width=400, height=400\n",
    ")\n",
    "#widget to modify the angle for edge extraction\n",
    "angle = pn.widgets.IntSlider(start=0, end=90, value=20, name='angle')\n",
    "\n",
    "# definition of the function to extract edges\n",
    "edges_actor = None\n",
    "@pn.depends(angle)\n",
    "def edges_extraction(angle):\n",
    "    global edges_actor\n",
    "    edges = mesh.extract_feature_edges(angle)\n",
    "    if edges_actor is None:\n",
    "        #first call => create actor and add to the plotter\n",
    "        edges_actor = p.add_mesh(edges, color=\"red\")\n",
    "    else:\n",
    "        edges_actor.GetMapper().SetInputData(edges)\n",
    "    vtkpan.synchronize()\n",
    "\n",
    "#display\n",
    "pn.Column(angle, vtkpan, edges_extraction)"
   ]
  },
  {
   "cell_type": "code",
   "execution_count": null,
   "metadata": {},
   "outputs": [],
   "source": []
  }
 ],
 "metadata": {
  "kernelspec": {
   "display_name": "Python 3",
   "language": "python",
   "name": "python3"
  },
  "language_info": {
   "codemirror_mode": {
    "name": "ipython",
    "version": 3
   },
   "file_extension": ".py",
   "mimetype": "text/x-python",
   "name": "python",
   "nbconvert_exporter": "python",
   "pygments_lexer": "ipython3",
   "version": "3.8.2"
  }
 },
 "nbformat": 4,
 "nbformat_minor": 4
}
