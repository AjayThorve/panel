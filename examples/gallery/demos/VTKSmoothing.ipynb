{
 "cells": [
  {
   "cell_type": "code",
   "execution_count": null,
   "metadata": {},
   "outputs": [],
   "source": [
    "import panel as pn\n",
    "import pyvista as pv\n",
    "pn.extension('vtk')\n",
    "\n",
    "import pyvista.examples as examples"
   ]
  },
  {
   "cell_type": "code",
   "execution_count": null,
   "metadata": {},
   "outputs": [],
   "source": [
    "# Vector to view rough edges\n",
    "cpos = [-2, 5, 3]\n",
    "\n",
    "# Load dataset\n",
    "data = examples.load_uniform()\n",
    "# Extract a rugged volume\n",
    "vol = data.threshold_percent(30, invert=1)\n",
    "surf = vol.extract_geometry()\n",
    "pl = pv.Plotter()\n",
    "actor = pl.add_mesh(surf, show_edges=True)\n",
    "pl.camera_position = cpos\n",
    "\n",
    "niter_slider = pn.widgets.IntSlider(start=0, end=1000, value=0, name = 'Smooth number of iterations')\n",
    "@pn.depends(niter_slider)\n",
    "def smooth(value):\n",
    "    actor.GetMapper().SetInputData(surf.smooth(n_iter=value))\n",
    "    vtkpan.synchronize()\n",
    "\n",
    "vtkpan = pn.panel(pl.ren_win)\n",
    "pn.Column(niter_slider, vtkpan, smooth)"
   ]
  },
  {
   "cell_type": "code",
   "execution_count": null,
   "metadata": {},
   "outputs": [],
   "source": []
  }
 ],
 "metadata": {
  "kernelspec": {
   "display_name": "Python 3",
   "language": "python",
   "name": "python3"
  },
  "language_info": {
   "codemirror_mode": {
    "name": "ipython",
    "version": 3
   },
   "file_extension": ".py",
   "mimetype": "text/x-python",
   "name": "python",
   "nbconvert_exporter": "python",
   "pygments_lexer": "ipython3",
   "version": "3.8.2"
  }
 },
 "nbformat": 4,
 "nbformat_minor": 4
}
