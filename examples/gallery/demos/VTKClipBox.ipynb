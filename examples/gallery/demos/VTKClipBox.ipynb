{
 "cells": [
  {
   "cell_type": "markdown",
   "metadata": {},
   "source": [
    "## VTK Clip with Bounds\n",
    "This example is inspired from this ``pyvista`` example:\n",
    "https://docs.pyvista.org/examples/01-filter/clipping.html#clip-with-bounds"
   ]
  },
  {
   "cell_type": "code",
   "execution_count": null,
   "metadata": {},
   "outputs": [],
   "source": [
    "import pyvista as pv\n",
    "import panel as pn\n",
    "\n",
    "import pyvista.examples as examples\n",
    "pn.extension('vtk')"
   ]
  },
  {
   "cell_type": "code",
   "execution_count": null,
   "metadata": {},
   "outputs": [],
   "source": [
    "dataset = examples.download_office()\n",
    "p = pv.Plotter()\n",
    "initial_camera = {'position': [13.078393697738647, 7.325431823730469, 7.7784422636032104],\n",
    "                  'focalPoint': [2.5192227363586426, 2.29958438873291, 0.9933322267606854],\n",
    "                  'viewUp': [-0.3366442620754242, -0.4262550473213196, 0.8396292328834534],}\n",
    "\n",
    "wire = p.add_mesh(dataset, style='wireframe', color='blue')\n",
    "\n",
    "vtkpan = pn.panel(p.ren_win, height=500, width=500)\n",
    "vtkpan.reset_camera()\n",
    "\n",
    "x_clip = pn.widgets.RangeSlider(value=(2,4.5), value_throttled=(2,4.5), \n",
    "                                start=0, end=4.5, step=0.1, name=\"x_clip\")\n",
    "y_clip = pn.widgets.RangeSlider(value=(2,4.5), value_throttled=(2,4.5),\n",
    "                                start=0, end=4.5, step=0.1, name=\"y_clip\")\n",
    "z_clip = pn.widgets.RangeSlider(value=(1,3), value_throttled=(1,3),\n",
    "                                start=0, end=3, step=0.1, name=\"z_clip\")\n",
    "opacity = pn.widgets.FloatSlider(value=1, value_throttled=1,\n",
    "                                 start=0, end=1, step=0.1, name='opacity') \n",
    "wbox = pn.Column(pn.Row(x_clip, y_clip, z_clip, width=500), opacity)\n",
    "\n",
    "clipped_actor = None\n",
    "@pn.depends(x_clip=x_clip.param.value_throttled,\n",
    "            y_clip=y_clip.param.value_throttled,\n",
    "            z_clip=z_clip.param.value_throttled)\n",
    "def clip_mesh(x_clip, y_clip, z_clip):\n",
    "    global clipped_actor\n",
    "    bounds = [x_clip[0], x_clip[1],\n",
    "              y_clip[0], y_clip[1],\n",
    "              z_clip[0], z_clip[1]]\n",
    "    clipped = dataset.clip_box(bounds)\n",
    "    if clipped_actor is None:\n",
    "        clipped_actor = p.add_mesh(clipped, label='Clipped')\n",
    "    else:\n",
    "        clipped_actor.GetMapper().SetInputData(clipped)\n",
    "    clip_opactity(opacity.value)\n",
    "\n",
    "@pn.depends(opacity=opacity.param.value_throttled)\n",
    "def clip_opactity(opacity):\n",
    "    global clipped_actor\n",
    "    if clipped_actor:\n",
    "        clipped_actor.GetProperty().SetOpacity(opacity)\n",
    "        vtkpan.synchronize()\n",
    "\n",
    "#creation the equivalent volume to compare:\n",
    "import vtk\n",
    "probe_filter = vtk.vtkProbeFilter()\n",
    "xdim, ydim, zdim = 51, 51, 51\n",
    "xextent, yextent, zextent = 4.5, 4.5, 3.\n",
    "\n",
    "unif_grid = pv.UniformGrid((xdim, ydim, zdim), #dim \n",
    "                           (xextent/xdim, yextent/ydim, zextent/zdim), #spacing\n",
    "                           origin=(0,0,0))\n",
    "probe_filter.SetInputData(unif_grid)\n",
    "probe_filter.SetSourceData(dataset)\n",
    "probe_filter.Update()\n",
    "probe_filter.Update()\n",
    "vtkvol = pn.panel(probe_filter.GetOutput(), render_background='#4c4c4c', height=500, width=500,\n",
    "                  camera=initial_camera)\n",
    "vtkpan.jslink(vtkvol, camera='camera', bidirectional=True)\n",
    "\n",
    "pn.Column(pn.Row(wbox), pn.Row(vtkpan, vtkvol), clip_mesh, clip_opactity, background='#eeeeee').servable()"
   ]
  },
  {
   "cell_type": "code",
   "execution_count": null,
   "metadata": {},
   "outputs": [],
   "source": []
  }
 ],
 "metadata": {
  "kernelspec": {
   "display_name": "Python 3",
   "language": "python",
   "name": "python3"
  },
  "language_info": {
   "codemirror_mode": {
    "name": "ipython",
    "version": 3
   },
   "file_extension": ".py",
   "mimetype": "text/x-python",
   "name": "python",
   "nbconvert_exporter": "python",
   "pygments_lexer": "ipython3",
   "version": "3.8.2"
  }
 },
 "nbformat": 4,
 "nbformat_minor": 4
}
