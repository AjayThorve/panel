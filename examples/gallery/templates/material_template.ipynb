{
 "cells": [
  {
   "cell_type": "code",
   "execution_count": null,
   "metadata": {},
   "outputs": [],
   "source": [
    "import holoviews as hv\n",
    "import panel as pn\n",
    "\n",
    "hv.extension(\"bokeh\")\n",
    "pn.extension()"
   ]
  },
  {
   "cell_type": "markdown",
   "metadata": {},
   "source": [
    "# Material Template for Panel\n",
    "\n",
    "[Panel](https://panel.holoviz.org/index.html) is a framework for creating awesome analytics apps in Python.\n",
    "\n",
    "In Panel you are able to customize the layout and style using a custom [Template](https://panel.holoviz.org/user_guide/Templates.html).\n",
    "\n",
    "One popular design specification is [Material Design](https://material.io/design/). The following frameworks aims to implement the Material Design specification\n",
    "\n",
    "- [Material Design Lite](https://getmdl.io/) (`mdl`) (simple components)\n",
    "- [Material Design Components for the Web](https://material.io/develop/web/) (`mdc`) (advanced components)\n",
    "- [Material Web Components](https://github.com/material-components/material-components-web-components) (`mwc`) (web components on top of mdc)\n",
    "\n",
    "The `mwc` components should be the easiest to integrate with Panel, so we will base the following on `mwc` with a fall back to `mdc` when needed.\n",
    "\n",
    "<img src=\"https://vuejsexamples.com/content/images/2017/08/posvavue-mdc.gif\" alt=\"Girl in a jacket\" style=\"height:200px;display:inline-block\"> \n",
    "<img src=\"https://raw.githubusercontent.com/material-components/material-components-web-components/master/packages/top-app-bar-fixed/images/fixed.gif\" alt=\"Girl in a jacket\" style=\"width:400px;display:inline-block\"> "
   ]
  },
  {
   "cell_type": "markdown",
   "metadata": {},
   "source": [
    "\n",
    "## Material Template Introduction\n",
    "\n",
    "We start by importing the **components**"
   ]
  },
  {
   "cell_type": "code",
   "execution_count": null,
   "metadata": {},
   "outputs": [],
   "source": [
    "%%HTML\n",
    "<script src=\"https://unpkg.com/@webcomponents/webcomponentsjs@next/webcomponents-loader.js\"></script>\n",
    "<script type=\"module\" src=\"https://unpkg.com/@material/mwc-button?module\"></script>\n",
    "<script type=\"module\" src=\"https://unpkg.com/@material/mwc-drawer?module\"></script>\n",
    "<script type=\"module\" src=\"https://unpkg.com/@material/mwc-icon-button?module\"></script>\n",
    "<script type=\"module\" src=\"https://unpkg.com/@material/mwc-slider?module\"></script>\n",
    "<script type=\"module\" src=\"https://unpkg.com/@material/mwc-top-app-bar-fixed?module\"></script>"
   ]
  },
  {
   "cell_type": "markdown",
   "metadata": {},
   "source": [
    "Then the **fonts**"
   ]
  },
  {
   "cell_type": "code",
   "execution_count": null,
   "metadata": {},
   "outputs": [],
   "source": [
    "%%HTML\n",
    "<link href=\"https://fonts.googleapis.com/css?family=Roboto:300,400,500\" rel=\"stylesheet\">\n",
    "<link href=\"https://fonts.googleapis.com/css?family=Material+Icons&display=block\" rel=\"stylesheet\">"
   ]
  },
  {
   "cell_type": "markdown",
   "metadata": {},
   "source": [
    "Then the app **layout**, **contents** and some code to enable **toggling** of the `mwcdrawer`."
   ]
  },
  {
   "cell_type": "code",
   "execution_count": null,
   "metadata": {},
   "outputs": [],
   "source": [
    "%%HTML\n",
    "<div>\n",
    "<mwc-drawer id=\"appDrawer-intro\" hasHeader type=\"dismissible\">\n",
    "    <span slot=\"title\">Material App</span>\n",
    "    <div class=\"appMenu\">\n",
    "        <mwc-button label=\"Data\" icon=\"archive\"></mwc-button>\n",
    "        <mwc-button label=\"Models\" icon=\"gesture\"></mwc-button>\n",
    "        <mwc-button label=\"Analytics\" icon=\"assessment\"></mwc-button>\n",
    "    </div>\n",
    "    <div class=\"appContent\" slot=\"appContent\">\n",
    "        <mwc-top-app-bar-fixed class=\"appBar\">\n",
    "            <mwc-icon-button icon=\"menu\" slot=\"navigationIcon\" class=\"appDrawerToggleButton\"></mwc-icon-button>\n",
    "            <div slot=\"title\" style=\"font-size:20px;\">Panel App</div>\n",
    "            <mwc-icon-button icon=\"file_download\" slot=\"actionItems\"></mwc-icon-button>\n",
    "            <mwc-icon-button icon=\"print\" slot=\"actionItems\"></mwc-icon-button>\n",
    "            <mwc-icon-button icon=\"favorite\" slot=\"actionItems\"></mwc-icon-button>\n",
    "        </mwc-top-app-bar-fixed>\n",
    "        <div id=\"appMain\">\n",
    "            <p><h1>Main Content!</h1></p>\n",
    "            <mwc-button raised=\"\" label=\"raised\"></mwc-button>\n",
    "            <mwc-icon-button icon=\"favorite\" slot=\"actionItems\"></mwc-icon-button>\n",
    "            <mwc-slider pin markers max=\"50\" value=\"10\" step=\"5\"></mwc-slider>\n",
    "        </div>\n",
    "    </div>\n",
    "</mwc-drawer>\n",
    "<script>\n",
    "    var drawer = document.getElementById('appDrawer-intro');\n",
    "    var button = drawer.getElementsByClassName('appDrawerToggleButton')[0];\n",
    "    button.onclick = function(e) {\n",
    "        var drawer = document.getElementById('appDrawer-intro');\n",
    "        drawer.open = !drawer.open;\n",
    "    };\n",
    "    var bar = drawer.getElementsByClassName('appBar')[0];\n",
    "    bar.scrollTarget = drawer.getElementsByClassName('appContent')[0];\n",
    "</script>\n",
    "</div>"
   ]
  },
  {
   "cell_type": "markdown",
   "metadata": {},
   "source": [
    "## Material Grid"
   ]
  },
  {
   "cell_type": "markdown",
   "metadata": {},
   "source": [
    "The `mwc` framework does not contain a **grid system**. But the `mdc` framework does.\n",
    "\n",
    "It uses a a system of columns to create responsiveness and layout across mobile, tablet and desktop.\n",
    "\n",
    "- Desktop: 12 Columns\n",
    "- Tables: 8 Columns\n",
    "- Mobile: 4 Columns"
   ]
  },
  {
   "cell_type": "code",
   "execution_count": null,
   "metadata": {},
   "outputs": [],
   "source": [
    "%%HTML\n",
    "<link rel=\"stylesheet\" type=\"text/css\" href=\"https://unpkg.com/@material/layout-grid@3.1.0/dist/mdc.layout-grid.min.css\">\n",
    "\n",
    "\n",
    "<div class=\"mdc-layout-grid demo-grid\">\n",
    "<div class=\"mdc-layout-grid__inner\">\n",
    "    <div class=\"mdc-layout-grid__cell mdc-layout-grid__cell--span-12 demo-grid-cell\"></div>\n",
    "    <div class=\"mdc-layout-grid__cell mdc-layout-grid__cell--span-6 demo-grid-cell\"></div>\n",
    "    <div class=\"mdc-layout-grid__cell mdc-layout-grid__cell--span-6 demo-grid-cell\"></div>\n",
    "    <div class=\"mdc-layout-grid__cell mdc-layout-grid__cell--span-3 demo-grid-cell\"></div>\n",
    "    <div class=\"mdc-layout-grid__cell mdc-layout-grid__cell--span-3 demo-grid-cell\"></div>\n",
    "    <div class=\"mdc-layout-grid__cell mdc-layout-grid__cell--span-3 demo-grid-cell\"></div>\n",
    "    <div class=\"mdc-layout-grid__cell mdc-layout-grid__cell--span-3 demo-grid-cell\"></div>\n",
    "    <div class=\"mdc-layout-grid__cell mdc-layout-grid__cell--span-1 demo-grid-cell\"></div>\n",
    "    <div class=\"mdc-layout-grid__cell mdc-layout-grid__cell--span-8 demo-grid-cell\"></div>\n",
    "    <div class=\"mdc-layout-grid__cell mdc-layout-grid__cell--span-3 demo-grid-cell\"></div>\n",
    "</div>\n",
    "</div>\n",
    "    \n",
    "    \n",
    "<style>\n",
    ".demo-grid {\n",
    "  background: rgba(0, 0, 0, 0.2);\n",
    "  min-width: 360px;\n",
    "}\n",
    "\n",
    ".demo-grid-cell {\n",
    "  background: rgba(0, 0, 0, 0.2);\n",
    "  height: 75px;\n",
    "}\n",
    "</style>"
   ]
  },
  {
   "cell_type": "markdown",
   "metadata": {},
   "source": [
    "## Template"
   ]
  },
  {
   "cell_type": "code",
   "execution_count": null,
   "metadata": {},
   "outputs": [],
   "source": [
    "template = \"\"\"\n",
    "{% extends base %}\n",
    "\n",
    "<!-- goes in body -->\n",
    "{% block postamble %}\n",
    "<script src=\"https://unpkg.com/@webcomponents/webcomponentsjs@next/webcomponents-loader.js\"></script>\n",
    "<script type=\"module\" src=\"https://unpkg.com/@material/mwc-button?module\"></script>\n",
    "<script type=\"module\" src=\"https://unpkg.com/@material/mwc-drawer?module\"></script>\n",
    "<script type=\"module\" src=\"https://unpkg.com/@material/mwc-icon-button?module\"></script>\n",
    "<script type=\"module\" src=\"https://unpkg.com/@material/mwc-slider?module\"></script>\n",
    "<script type=\"module\" src=\"https://unpkg.com/@material/mwc-top-app-bar-fixed?module\"></script>\n",
    "<link href=\"https://fonts.googleapis.com/css?family=Roboto:300,400,500\" rel=\"stylesheet\">\n",
    "<link href=\"https://fonts.googleapis.com/css?family=Material+Icons&display=block\" rel=\"stylesheet\">\n",
    "<link rel=\"stylesheet\" type=\"text/css\" href=\"https://unpkg.com/@material/layout-grid@0.41.0/dist/mdc.layout-grid.min.css\">\n",
    "<style>\n",
    ".grid {\n",
    "  width: 100%;\n",
    "  background: #EEEEEE;\n",
    "}\n",
    "\n",
    ".grid-cell {\n",
    "  height: 210px;\n",
    "  border-radius: 4px;\n",
    "  <-- box-shadow:0 10px 16px 0 rgba(0,0,0,0.2),0 6px 20px 0 rgba(0,0,0,0.19); -->\n",
    "  padding: 5px;\n",
    "}\n",
    "</style>\n",
    "\n",
    "<style>\n",
    "body {\n",
    "    font-family: roboto;\n",
    "    margin: 0px;\n",
    "}\n",
    "mwc-top-app-bar-fixed {\n",
    "    box-shadow: 5px 5px 20px #9E9E9E;\n",
    "    font-size: 20px;\n",
    "}\n",
    ".appDrawer {\n",
    "    min-height:200px;\n",
    "    height:100%\n",
    "}\n",
    ".appMenu * {\n",
    "    width:100%\n",
    "}\n",
    ".appMain {\n",
    "    margin: 10px;\n",
    "}\n",
    "</style>\n",
    "\n",
    "{% endblock %}\n",
    "\n",
    "<!-- goes in body -->\n",
    "{% block contents %}\n",
    "<mwc-drawer id=\"appDrawer-id\" hasHeader type=\"dismissible\">\n",
    "    <span slot=\"title\">{{ app_title }}</span>\n",
    "    <div class=\"appMenu\">\n",
    "        <mwc-button label=\"Data\" icon=\"archive\"></mwc-button>\n",
    "        <mwc-button label=\"Models\" icon=\"gesture\"></mwc-button>\n",
    "        <mwc-button label=\"Analytics\" icon=\"assessment\"></mwc-button>\n",
    "    </div>\n",
    "    <div class=\"appContent\" slot=\"appContent\">\n",
    "        <mwc-top-app-bar-fixed class=\"appBar\">\n",
    "            <mwc-icon-button icon=\"menu\" slot=\"navigationIcon\" class=\"appDrawerToggleButton\"></mwc-icon-button>\n",
    "            <div slot=\"title\" style=\"font-size:20px;\">{{ app_title }}</div>\n",
    "            <mwc-icon-button icon=\"favorite\" slot=\"actionItems\"></mwc-icon-button>\n",
    "            <mwc-icon-button icon=\"perm_identity\" slot=\"actionItems\" label=\"Login\"></mwc-icon-button>\n",
    "        </mwc-top-app-bar-fixed>\n",
    "        <div class=\"appMain\">\n",
    "            <p><h1>Content!</h1></p>\n",
    "            <p>This is a Panel app with a Material template allowing us to compose multiple Panel objects into a single HTML document.</p><br>\n",
    "            <mwc-button raised=\"\" label=\"raised\"></mwc-button>\n",
    "            <mwc-icon-button icon=\"favorite\" slot=\"actionItems\"></mwc-icon-button>\n",
    "            <mwc-slider pin markers max=\"50\" value=\"10\" step=\"5\"></mwc-slider>\n",
    "            <div class=\"mdc-layout-grid grid\">\n",
    "            <div class=\"mdc-layout-grid__inner\">\n",
    "            <div class=\"mdc-layout-grid__cell mdc-layout-grid__cell--span-12 grid-cell\">{{ embed(roots.G) }}</div>\n",
    "            <div class=\"mdc-layout-grid__cell mdc-layout-grid__cell--span-6 grid-cell\">{{ embed(roots.A) }}</div>\n",
    "            <div class=\"mdc-layout-grid__cell mdc-layout-grid__cell--span-6 grid-cell\">{{ embed(roots.B) }}</div>\n",
    "            <div class=\"mdc-layout-grid__cell mdc-layout-grid__cell--span-3 grid-cell\">{{ embed(roots.C) }}</div>\n",
    "            <div class=\"mdc-layout-grid__cell mdc-layout-grid__cell--span-3 grid-cell\">{{ embed(roots.D) }}</div>\n",
    "            <div class=\"mdc-layout-grid__cell mdc-layout-grid__cell--span-3 grid-cell\">{{ embed(roots.E) }}</div>\n",
    "            <div class=\"mdc-layout-grid__cell mdc-layout-grid__cell--span-3 grid-cell\">{{ embed(roots.F) }}</div>\n",
    "        </div>\n",
    "    </div>\n",
    "</mwc-drawer>\n",
    "<script>\n",
    "    console.log(\"allo\");\n",
    "    var drawer = document.getElementById('appDrawer-id');\n",
    "    var button = drawer.getElementsByClassName('appDrawerToggleButton')[0];\n",
    "    button.onclick = function(e) {\n",
    "        var drawer = document.getElementById('appDrawer-id');\n",
    "        drawer.open = !drawer.open;\n",
    "    };\n",
    "    var bar = drawer.getElementsByClassName('appBar')[0];\n",
    "    console.log(\"allo\");\n",
    "    console.log(bar);\n",
    "    console.log(drawer.getElementsByClassName('appContent')[0]);\n",
    "    bar.scrollTarget = drawer.getElementsByClassName('appContent')[0];\n",
    "</script>\n",
    "{% endblock %}\n",
    "\"\"\""
   ]
  },
  {
   "cell_type": "code",
   "execution_count": null,
   "metadata": {},
   "outputs": [],
   "source": [
    "tmpl = pn.Template(template=template)\n",
    "\n",
    "tmpl.add_variable('app_title', 'Panel App')\n",
    "\n",
    "tmpl.add_panel('A', hv.Curve([1, 2, 3]).opts(height=200,responsive=True))\n",
    "tmpl.add_panel('B', hv.Curve([1, 2, 3]).opts(height=200,responsive=True))\n",
    "tmpl.add_panel('C', hv.Curve([1, 2, 3]).opts(height=200,responsive=True))\n",
    "tmpl.add_panel('D', hv.Curve([1, 2, 3]).opts(height=200,responsive=True))\n",
    "tmpl.add_panel('E', hv.Curve([1, 2, 3]).opts(height=200,responsive=True))\n",
    "tmpl.add_panel('F', hv.Curve([1, 2, 3]).opts(height=200,responsive=True))\n",
    "tmpl.add_panel('G', hv.Curve([1, 2, 3]).opts(height=200,responsive=True))\n",
    "tmpl"
   ]
  },
  {
   "cell_type": "code",
   "execution_count": null,
   "metadata": {},
   "outputs": [],
   "source": [
    "tmpl.show()"
   ]
  },
  {
   "cell_type": "code",
   "execution_count": null,
   "metadata": {},
   "outputs": [],
   "source": [
    "def show_in_server(event):\n",
    "    tmpl.show()\n",
    "show_in_server_button = pn.widgets.Button(name=\"Show in server\")\n",
    "show_in_server_button.on_click(show_in_server)\n",
    "show_in_server_button"
   ]
  },
  {
   "cell_type": "markdown",
   "metadata": {},
   "source": [
    "## Resources\n",
    "\n",
    "- `mdc`: [Github](https://github.com/material-components/material-components-web), [Demo](https://material-components.github.io/material-components-web-catalog/#/), [Grid-Demo](https://material-components.github.io/material-components-web-catalog/#/component/layout-grid)\n",
    "- `mwc`: [Github](https://github.com/material-components/material-components-web-components), [Demo](https://mwc-demos.glitch.me/demos/)\n",
    "- material-io: [Color System](https://material.io/design/color/#color-theme-creation), [Color Tool](https://material.io/resources/color/#!/?view.left=0&view.right=0&primary.color=6002ee), [Resources](https://material.io/resources/)\n",
    "- Other: [material-ui](https://material-ui.com)\n",
    "\n",
    "## Todo:\n",
    "\n",
    "- Add different panes (holoviews, plotly, altair, markdown) to example\n",
    "    - Theme plots and make them more appealing.\n",
    "- Illustrate theming (colors) both for material and for the plots\n",
    "- Add interactivity via mwc components and Panel WebComponent\n",
    "    - Illustrate how the `WebComponent` can be used to enable make `mwc` web compontents interactive\n",
    "    - Add functionality to select theme (dark/ light, primary color, secondary color, warning color) like at [material-ui](https://material-ui.com)\n",
    "- Make template configurable\n",
    "    - Number of grid-cells and their #columns\n",
    "    - Whether to add shadow\n",
    "    - Menu items and links\n",
    "    - Theme (dark/ light background, primary/ secondary/ warning colors)\n",
    "- Make sure that a Panel app can be shown in multiple cells and that the drawer toggle works on all versions shown.\n",
    "- Add bottom-app-bar when implemented. [FR](https://github.com/material-components/material-components-web-components/issues/298)\n",
    "- Generalize to a general Panel App Template."
   ]
  },
  {
   "cell_type": "code",
   "execution_count": null,
   "metadata": {},
   "outputs": [],
   "source": []
  }
 ],
 "metadata": {
  "kernelspec": {
   "display_name": "awesome-panel",
   "language": "python",
   "name": "awesome-panel"
  },
  "language_info": {
   "codemirror_mode": {
    "name": "ipython",
    "version": 3
   },
   "file_extension": ".py",
   "mimetype": "text/x-python",
   "name": "python",
   "nbconvert_exporter": "python",
   "pygments_lexer": "ipython3",
   "version": "3.7.4"
  }
 },
 "nbformat": 4,
 "nbformat_minor": 2
}
